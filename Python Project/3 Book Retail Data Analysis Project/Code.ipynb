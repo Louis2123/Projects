{
  "cells": [
    {
      "cell_type": "markdown",
      "metadata": {
        "id": "jvAmaevlMlQa"
      },
      "source": [
        "Question 1"
      ]
    },
    {
      "cell_type": "code",
      "execution_count": null,
      "metadata": {
        "colab": {
          "base_uri": "https://localhost:8080/"
        },
        "id": "rj05Hd5HO-YP",
        "outputId": "4fce1e1e-1fd4-4c9d-aebb-c20ca29bdb22"
      },
      "outputs": [
        {
          "name": "stdout",
          "output_type": "stream",
          "text": [
            "0.0\n",
            "0\n",
            "fiction           0.938776\n",
            "non_fiction       0.938776\n",
            "childrens_book    0.795918\n",
            "self_help         0.897959\n",
            "mystery           0.918367\n",
            "dtype: float64\n"
          ]
        }
      ],
      "source": [
        "# calculate the Euclidean distance\n",
        "import pandas as pd\n",
        "data = pd.read_csv('books.csv')\n",
        "data = data.iloc[:,1:]\n",
        "\n",
        "customer_245 = data.iloc[244]\n",
        "customer_431 = data.iloc[430]\n",
        "\n",
        "euclidean_distance = ((customer_245 - customer_431) ** 2).sum() ** 0.5\n",
        "print(euclidean_distance)\n",
        "\n",
        "# calculate the Manhattan distance\n",
        "customer_82 = data.iloc[81]\n",
        "customer_197 = data.iloc[196]\n",
        "\n",
        "manhattan_distance = (abs(customer_82 - customer_197)).sum()\n",
        "print(manhattan_distance)\n",
        "\n",
        "# calculate the Centroid\n",
        "centroid = data.iloc[:49].mean()\n",
        "print(centroid)"
      ]
    },
    {
      "cell_type": "markdown",
      "metadata": {
        "id": "2w0egb86MlUE"
      },
      "source": [
        "Question 2"
      ]
    },
    {
      "cell_type": "code",
      "execution_count": null,
      "metadata": {
        "colab": {
          "base_uri": "https://localhost:8080/"
        },
        "id": "ApUYFzHM5_FB",
        "outputId": "b732ee0b-7310-4c2b-a1c9-1d2503567774"
      },
      "outputs": [
        {
          "name": "stdout",
          "output_type": "stream",
          "text": [
            "('fiction', 'mystery')\n",
            "('non_fiction', 'childrens_book')\n"
          ]
        }
      ],
      "source": [
        "# calculate the co-occurrence and choose the highest one and the lowest one\n",
        "coocurrence_max = 0\n",
        "coocurrence_min = len(data)\n",
        "for i in range(len(data.columns)):\n",
        "  for j in range(i+1, len(data.columns)):\n",
        "    coocurrence = ((data.iloc[:, i] == 1) & (data.iloc[:, j] == 1)).sum()\n",
        "    if coocurrence > coocurrence_max:\n",
        "      coocurrence_max = coocurrence\n",
        "      max_pair = (data.columns[i], data.columns[j])\n",
        "    if coocurrence < coocurrence_min:\n",
        "      coocurrence_min = coocurrence\n",
        "      min_pair = (data.columns[i], data.columns[j])\n",
        "print(max_pair)\n",
        "print(min_pair)"
      ]
    },
    {
      "cell_type": "markdown",
      "metadata": {
        "id": "xNFz_ULfMlXH"
      },
      "source": [
        "Question 3"
      ]
    },
    {
      "cell_type": "code",
      "execution_count": null,
      "metadata": {
        "colab": {
          "base_uri": "https://localhost:8080/"
        },
        "id": "2IwpYTxH5_7X",
        "outputId": "a600d48f-35b1-4662-a9f0-59e6e2d01f59"
      },
      "outputs": [
        {
          "name": "stdout",
          "output_type": "stream",
          "text": [
            "0    380\n",
            "2     69\n",
            "1     51\n",
            "Name: cluster, dtype: int64\n"
          ]
        },
        {
          "name": "stderr",
          "output_type": "stream",
          "text": [
            "/Users/cuijianxin/Library/jupyterlab-desktop/jlab_server/lib/python3.8/site-packages/sklearn/cluster/_kmeans.py:1416: FutureWarning: The default value of `n_init` will change from 10 to 'auto' in 1.4. Set the value of `n_init` explicitly to suppress the warning\n",
            "  super()._check_params_vs_input(X, default_n_init=10)\n"
          ]
        }
      ],
      "source": [
        "# set the cluster and calculate the size\n",
        "from sklearn.cluster import KMeans\n",
        "\n",
        "data['total_books'] = data[:].sum(axis=1)\n",
        "k = 3\n",
        "KMeans = KMeans(n_clusters=k, random_state=42)\n",
        "data['cluster']= KMeans.fit_predict(data[['total_books']])\n",
        "cluster_size = data['cluster'].value_counts()\n",
        "print(cluster_size)"
      ]
    },
    {
      "cell_type": "markdown",
      "metadata": {
        "id": "tdsTL0mAMlZ6"
      },
      "source": [
        "Question 4"
      ]
    },
    {
      "cell_type": "code",
      "execution_count": null,
      "metadata": {
        "colab": {
          "base_uri": "https://localhost:8080/"
        },
        "id": "dtpKXD9m6AVf",
        "outputId": "23073a0f-7c38-4bae-9215-54bf7119522b"
      },
      "outputs": [
        {
          "name": "stdout",
          "output_type": "stream",
          "text": [
            "0.94\n",
            "0.894\n",
            "0.84\n"
          ]
        }
      ],
      "source": [
        "# calculate the support for fiction\n",
        "total_transactions = len(data)\n",
        "fiction_transactions = len(data[data['fiction'] == 1])\n",
        "support_fiction = fiction_transactions / total_transactions\n",
        "print(support_fiction)\n",
        "\n",
        "# calculate the support for non_fiction\n",
        "non_fiction_transations = len(data[data['non_fiction'] == 1])\n",
        "support_non_fiction = non_fiction_transations / total_transactions\n",
        "print(support_non_fiction)\n",
        "\n",
        "# calculate the support for fiction and self_help\n",
        "fiction_and_self_help_transactions = len(data[(data['fiction'] == 1) & (data['self_help'] == 1)])\n",
        "support_fiction_and_self_help = fiction_and_self_help_transactions / total_transactions\n",
        "print(support_fiction_and_self_help)"
      ]
    },
    {
      "cell_type": "markdown",
      "metadata": {
        "id": "62Vcd3FkMlcT"
      },
      "source": [
        "Question 5"
      ]
    },
    {
      "cell_type": "code",
      "execution_count": null,
      "metadata": {
        "colab": {
          "base_uri": "https://localhost:8080/"
        },
        "id": "ogzCzqPI6A3_",
        "outputId": "f807497e-0c16-4b56-85d8-3f74c98ab0f0"
      },
      "outputs": [
        {
          "name": "stdout",
          "output_type": "stream",
          "text": [
            "0.9808510638297874\n",
            "0.9686800894854586\n",
            "0.911904761904762\n"
          ]
        }
      ],
      "source": [
        "# calculate the confidence(fiction → mystery)\n",
        "fiction_and_mystery_transactions = len(data[(data['fiction'] == 1) & (data['mystery'] == 1)])\n",
        "support_fiction_and_mystery = fiction_and_mystery_transactions / total_transactions\n",
        "cofidence_fiction_to_mystery = support_fiction_and_mystery / support_fiction\n",
        "print(cofidence_fiction_to_mystery)\n",
        "\n",
        "# calculate the confidence(non_fiction → self_help)\n",
        "non_fiction_and_self_help_transactions = len(data[(data['non_fiction'] ==1) & (data['self_help'] ==1)])\n",
        "support_non_fiction_and_self_help = non_fiction_and_self_help_transactions / total_transactions\n",
        "cofidence_non_fiction_to_self_help = support_non_fiction_and_self_help / support_non_fiction\n",
        "print(cofidence_non_fiction_to_self_help)\n",
        "\n",
        "# calculate the confidence(fiction, self_help → childrens_books)\n",
        "fiction_and_self_help_and_childrens_books_transactions = len(data[(data['fiction'] ==1) & (data['self_help'] ==1) & (data['childrens_book']) ==1])\n",
        "support_fiction_and_self_help_and_childrens_books = fiction_and_self_help_and_childrens_books_transactions / total_transactions\n",
        "confidence_fiction_and_self_help_to_childrens_books = support_fiction_and_self_help_and_childrens_books / support_fiction_and_self_help\n",
        "print(confidence_fiction_and_self_help_to_childrens_books)"
      ]
    },
    {
      "cell_type": "markdown",
      "metadata": {
        "id": "WPWUSTUnMlfH"
      },
      "source": [
        "Question 6"
      ]
    },
    {
      "cell_type": "code",
      "execution_count": null,
      "metadata": {
        "colab": {
          "base_uri": "https://localhost:8080/"
        },
        "id": "1fDh2Yec6Bbl",
        "outputId": "af88fc8c-616a-4de6-b3d4-c7da4e38d970"
      },
      "outputs": [
        {
          "name": "stdout",
          "output_type": "stream",
          "text": [
            "1.0501617385757893\n",
            "1.1398809523809523\n",
            "1.001951544576134\n",
            "1.0884045949274814\n"
          ]
        }
      ],
      "source": [
        "# Calculate the lift(fiction → mystery)\n",
        "fiction_and_mystery_transactions = len(data[(data['fiction'] == 1) & (data['mystery'] == 1)])\n",
        "support_fiction_and_mystery = fiction_and_mystery_transactions / total_transactions\n",
        "\n",
        "mystery_transactions = len(data[data['mystery'] == 1])  # Transactions containing mystery\n",
        "support_mystery = mystery_transactions / total_transactions  # Support(mystery)\n",
        "\n",
        "lift_fiction_to_mystery = support_fiction_and_mystery / (support_fiction * support_mystery)\n",
        "print(lift_fiction_to_mystery)\n",
        "\n",
        "# calculate the lift(fiction, self_help → childrens_books)\n",
        "childrens_books_transactions = len(data[data['childrens_book'] ==1])\n",
        "support_childrens_books = childrens_books_transactions / total_transactions\n",
        "lift_fiction_and_self_help_to_childrens_books = support_fiction_and_self_help_and_childrens_books / (support_fiction_and_self_help * support_childrens_books)\n",
        "print(lift_fiction_and_self_help_to_childrens_books)\n",
        "\n",
        "# calculate the lift(fiction → non_fiction)\n",
        "fiction_and_non_fiction_transactions = len(data[(data['fiction'] ==1) & (data['non_fiction'] ==1)])\n",
        "support_fiction_and_non_fiction = fiction_and_non_fiction_transactions / total_transactions\n",
        "lift_fiction_to_non_fiction = support_fiction_and_non_fiction / (support_fiction * support_non_fiction)\n",
        "print(lift_fiction_to_non_fiction)\n",
        "\n",
        "# calculate the lift(non_fiction → self_help)\n",
        "non_fiction_and_self_help_transactions = len(data[(data['non_fiction'] ==1) & (data['self_help'] ==1)])\n",
        "support_non_fiction_and_self_help = non_fiction_and_self_help_transactions / total_transactions\n",
        "self_help_transactions = len(data[data['self_help'] ==1])\n",
        "support_self_help = self_help_transactions / total_transactions\n",
        "lift_non_fiction_to_self_help = support_non_fiction_and_self_help / (support_non_fiction * support_self_help)\n",
        "print(lift_non_fiction_to_self_help)\n"
      ]
    }
  ],
  "metadata": {
    "colab": {
      "provenance": []
    },
    "kernelspec": {
      "display_name": "Python 3 (ipykernel)",
      "language": "python",
      "name": "python3"
    },
    "language_info": {
      "codemirror_mode": {
        "name": "ipython",
        "version": 3
      },
      "file_extension": ".py",
      "mimetype": "text/x-python",
      "name": "python",
      "nbconvert_exporter": "python",
      "pygments_lexer": "ipython3",
      "version": "3.8.13"
    }
  },
  "nbformat": 4,
  "nbformat_minor": 0
}