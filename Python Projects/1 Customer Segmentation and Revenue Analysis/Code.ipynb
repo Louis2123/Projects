{
 "cells": [
  {
   "cell_type": "markdown",
   "metadata": {
    "id": "NvtLIHhlvb7s"
   },
   "source": [
    "Question 1"
   ]
  },
  {
   "cell_type": "code",
   "execution_count": 2,
   "metadata": {
    "colab": {
     "base_uri": "https://localhost:8080/"
    },
    "id": "9oTn4Ogcm5sR",
    "outputId": "b31d607b-aef5-47f6-d887-15d9439e83ee"
   },
   "outputs": [
    {
     "name": "stdout",
     "output_type": "stream",
     "text": [
      "user_id          0\n",
      "age_bracket     53\n",
      "tier            28\n",
      "gender         152\n",
      "oPhone          50\n",
      "oWatch          40\n",
      "oPods           45\n",
      "oTV             30\n",
      "date            17\n",
      "card            20\n",
      "dtype: int64\n"
     ]
    }
   ],
   "source": [
    "\n",
    "import pandas as pd\n",
    "\n",
    "orange_data = pd.read_csv('orange_inc.csv', na_values=\"-\")\n",
    "missing_values = orange_data.isnull().sum()\n",
    "print(missing_values)"
   ]
  },
  {
   "cell_type": "markdown",
   "metadata": {
    "id": "acEfYUriwIjZ"
   },
   "source": [
    "Question 2"
   ]
  },
  {
   "cell_type": "code",
   "execution_count": 3,
   "metadata": {
    "colab": {
     "base_uri": "https://localhost:8080/"
    },
    "id": "keZZX6UBrBdd",
    "outputId": "9421bcc8-b333-40e4-d767-d3cc7f3820e1"
   },
   "outputs": [
    {
     "name": "stdout",
     "output_type": "stream",
     "text": [
      "19567\n"
     ]
    }
   ],
   "source": [
    "orange_data_clean = orange_data.dropna()  # Remove rows with any missing values to create a clean dataset\n",
    "orange_data_clean_count = len(orange_data_clean)\n",
    "print(orange_data_clean_count)"
   ]
  },
  {
   "cell_type": "markdown",
   "metadata": {
    "id": "WqBKQ8QBwjX7"
   },
   "source": [
    "Question 3"
   ]
  },
  {
   "cell_type": "code",
   "execution_count": 5,
   "metadata": {
    "colab": {
     "base_uri": "https://localhost:8080/"
    },
    "id": "rx2H-NGGvRvi",
    "outputId": "1bae5cc7-82d0-41cc-e05f-77aacd76f7e5"
   },
   "outputs": [
    {
     "name": "stdout",
     "output_type": "stream",
     "text": [
      "8033\n"
     ]
    }
   ],
   "source": [
    "orange_data_clean.loc[:, 'owns_multiple_products'] = (\n",
    "    orange_data_clean[['oPhone', 'oWatch', 'oPods', 'oTV']].sum(axis=1) >= 2\n",
    ").astype(int)\n",
    "\n",
    "multiple_products_count = orange_data_clean['owns_multiple_products'].sum()\n",
    "print(multiple_products_count)"
   ]
  },
  {
   "cell_type": "markdown",
   "metadata": {
    "id": "6RcmTKT-tXnR"
   },
   "source": [
    "Question 4"
   ]
  },
  {
   "cell_type": "code",
   "execution_count": 7,
   "metadata": {
    "colab": {
     "base_uri": "https://localhost:8080/"
    },
    "id": "mHyMs7TrXtZQ",
    "outputId": "0c1ad1bb-a666-4181-8623-021e81941177"
   },
   "outputs": [
    {
     "name": "stdout",
     "output_type": "stream",
     "text": [
      "1825\n"
     ]
    }
   ],
   "source": [
    "female_customers = orange_data_clean[(orange_data_clean['age_bracket'] == '18-25') &\n",
    "    (orange_data_clean['gender'] == 'female') &\n",
    "    (orange_data_clean['card'].isin(['Visa_credit', 'Mastercard_credit']))]\n",
    "female_customers_count = len(female_customers)\n",
    "print(female_customers_count)"
   ]
  },
  {
   "cell_type": "markdown",
   "metadata": {
    "id": "kMdIkqClxphk"
   },
   "source": [
    "Question 5"
   ]
  },
  {
   "cell_type": "code",
   "execution_count": 8,
   "metadata": {
    "colab": {
     "base_uri": "https://localhost:8080/"
    },
    "id": "nJXHp8rfX-Tr",
    "outputId": "68d4045a-34e5-4e20-a1e1-c5a30bb177f4"
   },
   "outputs": [
    {
     "name": "stdout",
     "output_type": "stream",
     "text": [
      "13.609648898655898\n"
     ]
    }
   ],
   "source": [
    "debit_customers_25_plus = orange_data_clean[((orange_data_clean['age_bracket'] != '18-25') &\n",
    " (orange_data_clean['card'].isin(['Visa_debit', 'Mastercard_debit', 'Other_debit'])) &\n",
    " (orange_data_clean['owns_multiple_products'] == 1))]\n",
    "total_customers = len(orange_data_clean)\n",
    "percentage= (len(debit_customers_25_plus) / total_customers) * 100\n",
    "print(percentage)"
   ]
  },
  {
   "cell_type": "markdown",
   "metadata": {
    "id": "OeDv1lIvxroB"
   },
   "source": [
    "Question 6"
   ]
  },
  {
   "cell_type": "code",
   "execution_count": 9,
   "metadata": {
    "colab": {
     "base_uri": "https://localhost:8080/"
    },
    "id": "ABGy9E2tY0iu",
    "outputId": "d7e9b6fc-2324-407f-f944-50909a7c0102"
   },
   "outputs": [
    {
     "name": "stdout",
     "output_type": "stream",
     "text": [
      "89\n"
     ]
    }
   ],
   "source": [
    "customers_with_all_products = orange_data_clean[(orange_data_clean['oPhone'] == 1) &\n",
    "    (orange_data_clean['oWatch'] == 1) &\n",
    "    (orange_data_clean['oPods'] == 1) &\n",
    "    (orange_data_clean['oTV'] == 1)]\n",
    "customers_with_all_products_count = len(customers_with_all_products)\n",
    "print(customers_with_all_products_count)"
   ]
  },
  {
   "cell_type": "markdown",
   "metadata": {
    "id": "opG1OfK7xtUY"
   },
   "source": [
    "Question 7"
   ]
  },
  {
   "cell_type": "code",
   "execution_count": 10,
   "metadata": {
    "colab": {
     "base_uri": "https://localhost:8080/"
    },
    "id": "_WP-UveIZmL-",
    "outputId": "0796e569-5cef-45e2-f3d4-925ad7d549da"
   },
   "outputs": [
    {
     "name": "stdout",
     "output_type": "stream",
     "text": [
      "tier\n",
      "gold        1.484461\n",
      "platinum    1.496120\n",
      "silver      1.503344\n",
      "dtype: float64\n"
     ]
    }
   ],
   "source": [
    "avg_products_by_tier = orange_data_clean[['oPhone', 'oWatch', 'oPods', 'oTV']].sum(axis=1).groupby(orange_data_clean['tier']).mean()\n",
    "print(avg_products_by_tier)"
   ]
  },
  {
   "cell_type": "markdown",
   "metadata": {
    "id": "gyUKCQwJernu"
   },
   "source": [
    "Question 8a"
   ]
  },
  {
   "cell_type": "code",
   "execution_count": 12,
   "metadata": {
    "colab": {
     "base_uri": "https://localhost:8080/"
    },
    "id": "W3sSRItbaiim",
    "outputId": "e214100f-8c9b-45d2-9bf3-a25601fe3641"
   },
   "outputs": [
    {
     "name": "stdout",
     "output_type": "stream",
     "text": [
      "24008100\n"
     ]
    }
   ],
   "source": [
    "product_prices = {'oPhone': 1200, 'oWatch': 300, 'oPods': 150, 'oTV': 2500}\n",
    "orange_data_clean.loc[:,'sales_revenue'] = 0\n",
    "for product, price in product_prices.items():\n",
    "    orange_data_clean.loc[:,'sales_revenue'] += orange_data_clean[product] * price  # Calculate the total sales revenue for each product.\n",
    "\n",
    "total_revenue = orange_data_clean['sales_revenue'].sum()\n",
    "print(total_revenue)"
   ]
  },
  {
   "cell_type": "markdown",
   "metadata": {
    "id": "7m-IPg3rxxcO"
   },
   "source": [
    "Question 8b"
   ]
  },
  {
   "cell_type": "code",
   "execution_count": 15,
   "metadata": {
    "colab": {
     "base_uri": "https://localhost:8080/"
    },
    "id": "liPQutmcbwTo",
    "outputId": "7f6f5a5c-9261-401e-d98a-be401f38d730"
   },
   "outputs": [
    {
     "name": "stdout",
     "output_type": "stream",
     "text": [
      "5\n",
      "2136900\n"
     ]
    }
   ],
   "source": [
    "orange_data_clean.loc[:,'month_of_purchase'] = pd.to_datetime(orange_data_clean['date']).dt.month  # Extract the month from the 'date' column and store it in a new column 'month_of_purchase'.\n",
    "\n",
    "monthly_sales = orange_data_clean.groupby('month_of_purchase')['sales_revenue'].sum()  # Group the data by month and calculate the total sales revenue for each month.\n",
    "highest_sales_month = monthly_sales.idxmax()\n",
    "highest_sales_value = monthly_sales.max()\n",
    "print(highest_sales_month)\n",
    "print(highest_sales_value)"
   ]
  },
  {
   "cell_type": "markdown",
   "metadata": {
    "id": "94Wp3L5Cfkak"
   },
   "source": [
    "Question 8c"
   ]
  },
  {
   "cell_type": "code",
   "execution_count": 16,
   "metadata": {
    "colab": {
     "base_uri": "https://localhost:8080/"
    },
    "id": "HDqMgS4GcWIt",
    "outputId": "a692efe7-e27b-417b-98ef-0f9cd31cbc00"
   },
   "outputs": [
    {
     "name": "stdout",
     "output_type": "stream",
     "text": [
      "  Product  Total Sales Revenue\n",
      "0  oPhone           14938800.0\n",
      "1  oWatch            1645500.0\n",
      "2   oPods            1341300.0\n",
      "3     oTV            6082500.0\n"
     ]
    }
   ],
   "source": [
    "total_sales_revenue = {}\n",
    "for product, price in product_prices.items():\n",
    "    total_sales_revenue[product] = (orange_data_clean[product] * price).sum()  # Calculate the total sales revenue for each product.\n",
    "sales_revenue_df = pd.DataFrame(list(total_sales_revenue.items()), columns=['Product', 'Total Sales Revenue'])\n",
    "print(sales_revenue_df)"
   ]
  },
  {
   "cell_type": "markdown",
   "metadata": {
    "id": "WvkLFXrUx1lt"
   },
   "source": [
    "Question 9a"
   ]
  },
  {
   "cell_type": "code",
   "execution_count": 17,
   "metadata": {
    "colab": {
     "base_uri": "https://localhost:8080/",
     "height": 472
    },
    "id": "f8pvlIiEcljS",
    "outputId": "dea9c35f-7a45-4018-9f04-e9bcea76e31e"
   },
   "outputs": [
    {
     "data": {
      "image/png": "[encoded data removed]",
      "text/plain": [
       "<Figure size 640x480 with 1 Axes>"
      ]
     },
     "metadata": {},
     "output_type": "display_data"
    }
   ],
   "source": [
    "import matplotlib.pyplot as plt\n",
    "monthly_sales = orange_data_clean.groupby('month_of_purchase')['sales_revenue'].sum()  # Calculate the total sales revenue for each month.\n",
    "monthly_sales.plot(kind='bar', color='skyblue')\n",
    "plt.title('Monthly Sales Revenue')\n",
    "plt.xlabel('Month')\n",
    "plt.ylabel('Revenue (€)')\n",
    "plt.xticks(rotation=0)\n",
    "plt.grid(axis='y')\n",
    "plt.show()"
   ]
  },
  {
   "cell_type": "markdown",
   "metadata": {
    "id": "CSBFz_DLx27c"
   },
   "source": [
    "Question 9b"
   ]
  },
  {
   "cell_type": "code",
   "execution_count": 18,
   "metadata": {
    "colab": {
     "base_uri": "https://localhost:8080/",
     "height": 428
    },
    "id": "LLieJnn6cupW",
    "outputId": "3f4960a3-c895-42be-c882-54a9a6945707"
   },
   "outputs": [
    {
     "data": {
      "image/png": "[encoded data removed]",
      "text/plain": [
       "<Figure size 640x480 with 1 Axes>"
      ]
     },
     "metadata": {},
     "output_type": "display_data"
    }
   ],
   "source": [
    "plt.pie(total_sales_revenue.values(), labels=total_sales_revenue.keys(), autopct='%1.1f%%')  # Create a pie chart to visualize the total sales revenue for each product.\n",
    "plt.title('Revenue Per Product')\n",
    "plt.show()"
   ]
  },
  {
   "cell_type": "markdown",
   "metadata": {
    "id": "pwxZSWHyx4nW"
   },
   "source": [
    "Question 10a"
   ]
  },
  {
   "cell_type": "code",
   "execution_count": 19,
   "metadata": {
    "colab": {
     "base_uri": "https://localhost:8080/"
    },
    "id": "ch4RY58Kc5Th",
    "outputId": "33a7722d-6f9e-4252-fcaf-c4e15f728b8a"
   },
   "outputs": [
    {
     "name": "stdout",
     "output_type": "stream",
     "text": [
      "Visa_debit\n"
     ]
    }
   ],
   "source": [
    "young_oPhone_owners = orange_data_clean[ (orange_data_clean['oPhone'] == 1) &\n",
    "    (orange_data_clean['age_bracket'] == '18-25')]\n",
    "most_preferred_card = young_oPhone_owners['card'].mode()[0]\n",
    "print(most_preferred_card)"
   ]
  },
  {
   "cell_type": "markdown",
   "metadata": {
    "id": "RnlThfw5x5pG"
   },
   "source": [
    "Question 10b"
   ]
  },
  {
   "cell_type": "code",
   "execution_count": 20,
   "metadata": {
    "colab": {
     "base_uri": "https://localhost:8080/"
    },
    "id": "teOAi6O3dEJs",
    "outputId": "46dac020-4ac0-474c-8051-70112c2717e9"
   },
   "outputs": [
    {
     "name": "stdout",
     "output_type": "stream",
     "text": [
      "1.692532942898975\n"
     ]
    }
   ],
   "source": [
    "average_products_purchased = young_oPhone_owners[['oPhone', 'oWatch', 'oPods', 'oTV']].sum(axis=1).mean()\n",
    "print(average_products_purchased)"
   ]
  }
 ],
 "metadata": {
  "colab": {
   "provenance": []
  },
  "kernelspec": {
   "display_name": "Python 3 (ipykernel)",
   "language": "python",
   "name": "python3"
  },
  "language_info": {
   "codemirror_mode": {
    "name": "ipython",
    "version": 3
   },
   "file_extension": ".py",
   "mimetype": "text/x-python",
   "name": "python",
   "nbconvert_exporter": "python",
   "pygments_lexer": "ipython3",
   "version": "3.8.13"
  }
 },
 "nbformat": 4,
 "nbformat_minor": 4
}
